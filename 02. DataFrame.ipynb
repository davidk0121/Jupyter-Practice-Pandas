{
 "cells": [
  {
   "cell_type": "markdown",
   "id": "1f92fb16-1f4f-4473-bfdc-87da1d2c0bfd",
   "metadata": {},
   "source": [
    "# 2. DataFrame\n",
    "2-dimensional data"
   ]
  },
  {
   "cell_type": "markdown",
   "id": "c69b2cd4-365b-49f9-890c-925318d6c706",
   "metadata": {},
   "source": [
    "## Setting Up Data"
   ]
  },
  {
   "cell_type": "code",
   "execution_count": 4,
   "id": "92d0ba97-7e00-4ad5-8c7b-7b397a09a06c",
   "metadata": {},
   "outputs": [
    {
     "data": {
      "text/plain": [
       "{'name': ['Sally', 'David', 'Daniel', 'Peter'],\n",
       " 'school': ['Biola', 'UCI', 'Navy', 'Emery'],\n",
       " 'height': [157, 173, 175, 130],\n",
       " 'English': [97, 78, 95, 100],\n",
       " 'Math': [89, 100, 78, 97],\n",
       " 'Science': [88, 98, 94, 97],\n",
       " 'SWskills': ['C++', 'Python', 'Java', 'Swift']}"
      ]
     },
     "execution_count": 4,
     "metadata": {},
     "output_type": "execute_result"
    }
   ],
   "source": [
    "data = {\n",
    "    'name' : ['Sally', 'David', 'Daniel', 'Peter'],\n",
    "    'school' : ['Biola', 'UCI', 'Navy', 'Emery'],\n",
    "    'height' : [157, 173, 175, 130],\n",
    "    'English' : [97, 78, 95, 100] ,\n",
    "    'Math' : [89, 100, 78, 97],\n",
    "    'Science' : [88, 98, 94, 97],\n",
    "    'SWskills' : ['C++', 'Python', 'Java', 'Swift']\n",
    "}\n",
    "data"
   ]
  },
  {
   "cell_type": "code",
   "execution_count": 5,
   "id": "9f992c69-1cb6-4d07-9e5b-26cdb6366597",
   "metadata": {},
   "outputs": [
    {
     "data": {
      "text/plain": [
       "['Sally', 'David', 'Daniel', 'Peter']"
      ]
     },
     "execution_count": 5,
     "metadata": {},
     "output_type": "execute_result"
    }
   ],
   "source": [
    "data['name']"
   ]
  },
  {
   "cell_type": "code",
   "execution_count": 6,
   "id": "3857293f-e6cf-4be4-91e6-12d0055f70cc",
   "metadata": {},
   "outputs": [
    {
     "data": {
      "text/plain": [
       "[157, 173, 175, 130]"
      ]
     },
     "execution_count": 6,
     "metadata": {},
     "output_type": "execute_result"
    }
   ],
   "source": [
    "data['height']"
   ]
  },
  {
   "cell_type": "markdown",
   "id": "ed92d0be-7a97-4518-b400-d75fb40381d8",
   "metadata": {},
   "source": [
    "## Create DataFrame"
   ]
  },
  {
   "cell_type": "code",
   "execution_count": 10,
   "id": "c3c0b5c5-84e3-4d27-8522-b48ec10ac815",
   "metadata": {},
   "outputs": [],
   "source": [
    "import pandas as pd\n",
    "df = pd.DataFrame(data)"
   ]
  },
  {
   "cell_type": "code",
   "execution_count": 9,
   "id": "2220144a-658a-4de0-9fd4-e778687e89e9",
   "metadata": {},
   "outputs": [
    {
     "data": {
      "text/html": [
       "<div>\n",
       "<style scoped>\n",
       "    .dataframe tbody tr th:only-of-type {\n",
       "        vertical-align: middle;\n",
       "    }\n",
       "\n",
       "    .dataframe tbody tr th {\n",
       "        vertical-align: top;\n",
       "    }\n",
       "\n",
       "    .dataframe thead th {\n",
       "        text-align: right;\n",
       "    }\n",
       "</style>\n",
       "<table border=\"1\" class=\"dataframe\">\n",
       "  <thead>\n",
       "    <tr style=\"text-align: right;\">\n",
       "      <th></th>\n",
       "      <th>name</th>\n",
       "      <th>school</th>\n",
       "      <th>height</th>\n",
       "      <th>English</th>\n",
       "      <th>Math</th>\n",
       "      <th>Science</th>\n",
       "      <th>SWskills</th>\n",
       "    </tr>\n",
       "  </thead>\n",
       "  <tbody>\n",
       "    <tr>\n",
       "      <th>0</th>\n",
       "      <td>Sally</td>\n",
       "      <td>Biola</td>\n",
       "      <td>157</td>\n",
       "      <td>97</td>\n",
       "      <td>89</td>\n",
       "      <td>88</td>\n",
       "      <td>C++</td>\n",
       "    </tr>\n",
       "    <tr>\n",
       "      <th>1</th>\n",
       "      <td>David</td>\n",
       "      <td>UCI</td>\n",
       "      <td>173</td>\n",
       "      <td>78</td>\n",
       "      <td>100</td>\n",
       "      <td>98</td>\n",
       "      <td>Python</td>\n",
       "    </tr>\n",
       "    <tr>\n",
       "      <th>2</th>\n",
       "      <td>Daniel</td>\n",
       "      <td>Navy</td>\n",
       "      <td>175</td>\n",
       "      <td>95</td>\n",
       "      <td>78</td>\n",
       "      <td>94</td>\n",
       "      <td>Java</td>\n",
       "    </tr>\n",
       "    <tr>\n",
       "      <th>3</th>\n",
       "      <td>Peter</td>\n",
       "      <td>Emery</td>\n",
       "      <td>130</td>\n",
       "      <td>100</td>\n",
       "      <td>97</td>\n",
       "      <td>97</td>\n",
       "      <td>Swift</td>\n",
       "    </tr>\n",
       "  </tbody>\n",
       "</table>\n",
       "</div>"
      ],
      "text/plain": [
       "     name school  height  English  Math  Science SWskills\n",
       "0   Sally  Biola     157       97    89       88      C++\n",
       "1   David    UCI     173       78   100       98   Python\n",
       "2  Daniel   Navy     175       95    78       94     Java\n",
       "3   Peter  Emery     130      100    97       97    Swift"
      ]
     },
     "execution_count": 9,
     "metadata": {},
     "output_type": "execute_result"
    }
   ],
   "source": [
    "df"
   ]
  },
  {
   "cell_type": "markdown",
   "id": "97e7988f-6939-4d8f-b696-cf7e5dcc6108",
   "metadata": {},
   "source": [
    "## Access Data"
   ]
  },
  {
   "cell_type": "code",
   "execution_count": 11,
   "id": "7be61cff-d2c0-4822-80a6-192557b46262",
   "metadata": {},
   "outputs": [
    {
     "data": {
      "text/plain": [
       "0     Sally\n",
       "1     David\n",
       "2    Daniel\n",
       "3     Peter\n",
       "Name: name, dtype: object"
      ]
     },
     "execution_count": 11,
     "metadata": {},
     "output_type": "execute_result"
    }
   ],
   "source": [
    "df['name']"
   ]
  },
  {
   "cell_type": "code",
   "execution_count": 12,
   "id": "b9cb37a9-8eaa-43cb-be62-3340115822f9",
   "metadata": {},
   "outputs": [
    {
     "data": {
      "text/plain": [
       "0    157\n",
       "1    173\n",
       "2    175\n",
       "3    130\n",
       "Name: height, dtype: int64"
      ]
     },
     "execution_count": 12,
     "metadata": {},
     "output_type": "execute_result"
    }
   ],
   "source": [
    "df['height']"
   ]
  },
  {
   "cell_type": "code",
   "execution_count": 13,
   "id": "1e796c72-72a9-4a85-82a3-3c4bc3344fec",
   "metadata": {},
   "outputs": [
    {
     "data": {
      "text/html": [
       "<div>\n",
       "<style scoped>\n",
       "    .dataframe tbody tr th:only-of-type {\n",
       "        vertical-align: middle;\n",
       "    }\n",
       "\n",
       "    .dataframe tbody tr th {\n",
       "        vertical-align: top;\n",
       "    }\n",
       "\n",
       "    .dataframe thead th {\n",
       "        text-align: right;\n",
       "    }\n",
       "</style>\n",
       "<table border=\"1\" class=\"dataframe\">\n",
       "  <thead>\n",
       "    <tr style=\"text-align: right;\">\n",
       "      <th></th>\n",
       "      <th>name</th>\n",
       "      <th>height</th>\n",
       "    </tr>\n",
       "  </thead>\n",
       "  <tbody>\n",
       "    <tr>\n",
       "      <th>0</th>\n",
       "      <td>Sally</td>\n",
       "      <td>157</td>\n",
       "    </tr>\n",
       "    <tr>\n",
       "      <th>1</th>\n",
       "      <td>David</td>\n",
       "      <td>173</td>\n",
       "    </tr>\n",
       "    <tr>\n",
       "      <th>2</th>\n",
       "      <td>Daniel</td>\n",
       "      <td>175</td>\n",
       "    </tr>\n",
       "    <tr>\n",
       "      <th>3</th>\n",
       "      <td>Peter</td>\n",
       "      <td>130</td>\n",
       "    </tr>\n",
       "  </tbody>\n",
       "</table>\n",
       "</div>"
      ],
      "text/plain": [
       "     name  height\n",
       "0   Sally     157\n",
       "1   David     173\n",
       "2  Daniel     175\n",
       "3   Peter     130"
      ]
     },
     "execution_count": 13,
     "metadata": {},
     "output_type": "execute_result"
    }
   ],
   "source": [
    "df[['name', 'height']]"
   ]
  },
  {
   "cell_type": "markdown",
   "id": "b72e2262-1436-4a03-9ea6-cfa63d55e832",
   "metadata": {},
   "source": [
    "## DataFrame set Index"
   ]
  },
  {
   "cell_type": "code",
   "execution_count": 15,
   "id": "ff02a70a-62c8-4640-8ea3-88922db82806",
   "metadata": {},
   "outputs": [
    {
     "data": {
      "text/html": [
       "<div>\n",
       "<style scoped>\n",
       "    .dataframe tbody tr th:only-of-type {\n",
       "        vertical-align: middle;\n",
       "    }\n",
       "\n",
       "    .dataframe tbody tr th {\n",
       "        vertical-align: top;\n",
       "    }\n",
       "\n",
       "    .dataframe thead th {\n",
       "        text-align: right;\n",
       "    }\n",
       "</style>\n",
       "<table border=\"1\" class=\"dataframe\">\n",
       "  <thead>\n",
       "    <tr style=\"text-align: right;\">\n",
       "      <th></th>\n",
       "      <th>name</th>\n",
       "      <th>school</th>\n",
       "      <th>height</th>\n",
       "      <th>English</th>\n",
       "      <th>Math</th>\n",
       "      <th>Science</th>\n",
       "      <th>SWskills</th>\n",
       "    </tr>\n",
       "  </thead>\n",
       "  <tbody>\n",
       "    <tr>\n",
       "      <th>1st</th>\n",
       "      <td>Sally</td>\n",
       "      <td>Biola</td>\n",
       "      <td>157</td>\n",
       "      <td>97</td>\n",
       "      <td>89</td>\n",
       "      <td>88</td>\n",
       "      <td>C++</td>\n",
       "    </tr>\n",
       "    <tr>\n",
       "      <th>2nd</th>\n",
       "      <td>David</td>\n",
       "      <td>UCI</td>\n",
       "      <td>173</td>\n",
       "      <td>78</td>\n",
       "      <td>100</td>\n",
       "      <td>98</td>\n",
       "      <td>Python</td>\n",
       "    </tr>\n",
       "    <tr>\n",
       "      <th>3rd</th>\n",
       "      <td>Daniel</td>\n",
       "      <td>Navy</td>\n",
       "      <td>175</td>\n",
       "      <td>95</td>\n",
       "      <td>78</td>\n",
       "      <td>94</td>\n",
       "      <td>Java</td>\n",
       "    </tr>\n",
       "    <tr>\n",
       "      <th>4th</th>\n",
       "      <td>Peter</td>\n",
       "      <td>Emery</td>\n",
       "      <td>130</td>\n",
       "      <td>100</td>\n",
       "      <td>97</td>\n",
       "      <td>97</td>\n",
       "      <td>Swift</td>\n",
       "    </tr>\n",
       "  </tbody>\n",
       "</table>\n",
       "</div>"
      ],
      "text/plain": [
       "       name school  height  English  Math  Science SWskills\n",
       "1st   Sally  Biola     157       97    89       88      C++\n",
       "2nd   David    UCI     173       78   100       98   Python\n",
       "3rd  Daniel   Navy     175       95    78       94     Java\n",
       "4th   Peter  Emery     130      100    97       97    Swift"
      ]
     },
     "execution_count": 15,
     "metadata": {},
     "output_type": "execute_result"
    }
   ],
   "source": [
    "df = pd.DataFrame(data, index = ['1st', '2nd', '3rd', '4th'])\n",
    "df"
   ]
  },
  {
   "cell_type": "markdown",
   "id": "7c8526db-9008-4b74-b6c0-8ded6d2c7e69",
   "metadata": {},
   "source": [
    "## DataFrame set column\n",
    "choose the column from the data, or change the order"
   ]
  },
  {
   "cell_type": "code",
   "execution_count": 19,
   "id": "0eb9ab26-e2b2-4dc5-befb-f8da91a7a289",
   "metadata": {},
   "outputs": [
    {
     "data": {
      "text/html": [
       "<div>\n",
       "<style scoped>\n",
       "    .dataframe tbody tr th:only-of-type {\n",
       "        vertical-align: middle;\n",
       "    }\n",
       "\n",
       "    .dataframe tbody tr th {\n",
       "        vertical-align: top;\n",
       "    }\n",
       "\n",
       "    .dataframe thead th {\n",
       "        text-align: right;\n",
       "    }\n",
       "</style>\n",
       "<table border=\"1\" class=\"dataframe\">\n",
       "  <thead>\n",
       "    <tr style=\"text-align: right;\">\n",
       "      <th></th>\n",
       "      <th>name</th>\n",
       "      <th>school</th>\n",
       "      <th>height</th>\n",
       "    </tr>\n",
       "  </thead>\n",
       "  <tbody>\n",
       "    <tr>\n",
       "      <th>0</th>\n",
       "      <td>Sally</td>\n",
       "      <td>Biola</td>\n",
       "      <td>157</td>\n",
       "    </tr>\n",
       "    <tr>\n",
       "      <th>1</th>\n",
       "      <td>David</td>\n",
       "      <td>UCI</td>\n",
       "      <td>173</td>\n",
       "    </tr>\n",
       "    <tr>\n",
       "      <th>2</th>\n",
       "      <td>Daniel</td>\n",
       "      <td>Navy</td>\n",
       "      <td>175</td>\n",
       "    </tr>\n",
       "    <tr>\n",
       "      <th>3</th>\n",
       "      <td>Peter</td>\n",
       "      <td>Emery</td>\n",
       "      <td>130</td>\n",
       "    </tr>\n",
       "  </tbody>\n",
       "</table>\n",
       "</div>"
      ],
      "text/plain": [
       "     name school  height\n",
       "0   Sally  Biola     157\n",
       "1   David    UCI     173\n",
       "2  Daniel   Navy     175\n",
       "3   Peter  Emery     130"
      ]
     },
     "execution_count": 19,
     "metadata": {},
     "output_type": "execute_result"
    }
   ],
   "source": [
    "df = pd.DataFrame(data, columns = ['name', 'school', 'height'])\n",
    "df"
   ]
  },
  {
   "cell_type": "code",
   "execution_count": 20,
   "id": "239cb834-ac3d-4b8a-b26a-b37e857557f9",
   "metadata": {},
   "outputs": [
    {
     "data": {
      "text/html": [
       "<div>\n",
       "<style scoped>\n",
       "    .dataframe tbody tr th:only-of-type {\n",
       "        vertical-align: middle;\n",
       "    }\n",
       "\n",
       "    .dataframe tbody tr th {\n",
       "        vertical-align: top;\n",
       "    }\n",
       "\n",
       "    .dataframe thead th {\n",
       "        text-align: right;\n",
       "    }\n",
       "</style>\n",
       "<table border=\"1\" class=\"dataframe\">\n",
       "  <thead>\n",
       "    <tr style=\"text-align: right;\">\n",
       "      <th></th>\n",
       "      <th>name</th>\n",
       "      <th>height</th>\n",
       "      <th>school</th>\n",
       "    </tr>\n",
       "  </thead>\n",
       "  <tbody>\n",
       "    <tr>\n",
       "      <th>0</th>\n",
       "      <td>Sally</td>\n",
       "      <td>157</td>\n",
       "      <td>Biola</td>\n",
       "    </tr>\n",
       "    <tr>\n",
       "      <th>1</th>\n",
       "      <td>David</td>\n",
       "      <td>173</td>\n",
       "      <td>UCI</td>\n",
       "    </tr>\n",
       "    <tr>\n",
       "      <th>2</th>\n",
       "      <td>Daniel</td>\n",
       "      <td>175</td>\n",
       "      <td>Navy</td>\n",
       "    </tr>\n",
       "    <tr>\n",
       "      <th>3</th>\n",
       "      <td>Peter</td>\n",
       "      <td>130</td>\n",
       "      <td>Emery</td>\n",
       "    </tr>\n",
       "  </tbody>\n",
       "</table>\n",
       "</div>"
      ],
      "text/plain": [
       "     name  height school\n",
       "0   Sally     157  Biola\n",
       "1   David     173    UCI\n",
       "2  Daniel     175   Navy\n",
       "3   Peter     130  Emery"
      ]
     },
     "execution_count": 20,
     "metadata": {},
     "output_type": "execute_result"
    }
   ],
   "source": [
    "df = pd.DataFrame(data, columns = ['name', 'height', 'school'])\n",
    "df"
   ]
  },
  {
   "cell_type": "code",
   "execution_count": null,
   "id": "b8abc873-4149-4334-9474-9b441d488c8e",
   "metadata": {},
   "outputs": [],
   "source": []
  },
  {
   "cell_type": "code",
   "execution_count": null,
   "id": "39a88e9b-7f4b-4aaf-b227-98708e0ca528",
   "metadata": {},
   "outputs": [],
   "source": []
  }
 ],
 "metadata": {
  "kernelspec": {
   "display_name": "Python 3 (ipykernel)",
   "language": "python",
   "name": "python3"
  },
  "language_info": {
   "codemirror_mode": {
    "name": "ipython",
    "version": 3
   },
   "file_extension": ".py",
   "mimetype": "text/x-python",
   "name": "python",
   "nbconvert_exporter": "python",
   "pygments_lexer": "ipython3",
   "version": "3.11.5"
  }
 },
 "nbformat": 4,
 "nbformat_minor": 5
}
