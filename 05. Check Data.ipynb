{
 "cells": [
  {
   "cell_type": "markdown",
   "id": "d49bbc1e-238e-4b48-9bf1-a7694555de0c",
   "metadata": {},
   "source": [
    "# Check Data"
   ]
  },
  {
   "cell_type": "code",
   "execution_count": 10,
   "id": "3f9502f0-7762-45d5-abd3-fd7c5192f10f",
   "metadata": {},
   "outputs": [
    {
     "data": {
      "text/html": [
       "<div>\n",
       "<style scoped>\n",
       "    .dataframe tbody tr th:only-of-type {\n",
       "        vertical-align: middle;\n",
       "    }\n",
       "\n",
       "    .dataframe tbody tr th {\n",
       "        vertical-align: top;\n",
       "    }\n",
       "\n",
       "    .dataframe thead th {\n",
       "        text-align: right;\n",
       "    }\n",
       "</style>\n",
       "<table border=\"1\" class=\"dataframe\">\n",
       "  <thead>\n",
       "    <tr style=\"text-align: right;\">\n",
       "      <th></th>\n",
       "      <th>name</th>\n",
       "      <th>school</th>\n",
       "      <th>height</th>\n",
       "      <th>English</th>\n",
       "      <th>Math</th>\n",
       "      <th>Science</th>\n",
       "      <th>SWskills</th>\n",
       "    </tr>\n",
       "    <tr>\n",
       "      <th>Sib. #</th>\n",
       "      <th></th>\n",
       "      <th></th>\n",
       "      <th></th>\n",
       "      <th></th>\n",
       "      <th></th>\n",
       "      <th></th>\n",
       "      <th></th>\n",
       "    </tr>\n",
       "  </thead>\n",
       "  <tbody>\n",
       "    <tr>\n",
       "      <th>1st</th>\n",
       "      <td>Sally</td>\n",
       "      <td>Biola</td>\n",
       "      <td>157</td>\n",
       "      <td>97</td>\n",
       "      <td>89</td>\n",
       "      <td>88</td>\n",
       "      <td>C++</td>\n",
       "    </tr>\n",
       "    <tr>\n",
       "      <th>2nd</th>\n",
       "      <td>David</td>\n",
       "      <td>UCI</td>\n",
       "      <td>173</td>\n",
       "      <td>78</td>\n",
       "      <td>100</td>\n",
       "      <td>98</td>\n",
       "      <td>Python</td>\n",
       "    </tr>\n",
       "    <tr>\n",
       "      <th>3rd</th>\n",
       "      <td>Daniel</td>\n",
       "      <td>Navy</td>\n",
       "      <td>175</td>\n",
       "      <td>95</td>\n",
       "      <td>78</td>\n",
       "      <td>94</td>\n",
       "      <td>Java</td>\n",
       "    </tr>\n",
       "    <tr>\n",
       "      <th>4th</th>\n",
       "      <td>Peter</td>\n",
       "      <td>Emery</td>\n",
       "      <td>130</td>\n",
       "      <td>100</td>\n",
       "      <td>97</td>\n",
       "      <td>97</td>\n",
       "      <td>Swift</td>\n",
       "    </tr>\n",
       "  </tbody>\n",
       "</table>\n",
       "</div>"
      ],
      "text/plain": [
       "          name school  height  English  Math  Science SWskills\n",
       "Sib. #                                                        \n",
       "1st      Sally  Biola     157       97    89       88      C++\n",
       "2nd      David    UCI     173       78   100       98   Python\n",
       "3rd     Daniel   Navy     175       95    78       94     Java\n",
       "4th      Peter  Emery     130      100    97       97    Swift"
      ]
     },
     "execution_count": 10,
     "metadata": {},
     "output_type": "execute_result"
    }
   ],
   "source": [
    "import pandas as pd\n",
    "df = pd.read_excel('score.xlsx', index_col='Sib. #')\n",
    "df"
   ]
  },
  {
   "cell_type": "markdown",
   "id": "cb495639-40d7-439e-8c48-04b79c1f8678",
   "metadata": {},
   "source": [
    "## Check DataFrame\n",
    "Calculate all possible calculation"
   ]
  },
  {
   "cell_type": "code",
   "execution_count": 11,
   "id": "a056d96f-71aa-4649-bc47-1d9fb238f8f8",
   "metadata": {},
   "outputs": [
    {
     "data": {
      "text/html": [
       "<div>\n",
       "<style scoped>\n",
       "    .dataframe tbody tr th:only-of-type {\n",
       "        vertical-align: middle;\n",
       "    }\n",
       "\n",
       "    .dataframe tbody tr th {\n",
       "        vertical-align: top;\n",
       "    }\n",
       "\n",
       "    .dataframe thead th {\n",
       "        text-align: right;\n",
       "    }\n",
       "</style>\n",
       "<table border=\"1\" class=\"dataframe\">\n",
       "  <thead>\n",
       "    <tr style=\"text-align: right;\">\n",
       "      <th></th>\n",
       "      <th>height</th>\n",
       "      <th>English</th>\n",
       "      <th>Math</th>\n",
       "      <th>Science</th>\n",
       "    </tr>\n",
       "  </thead>\n",
       "  <tbody>\n",
       "    <tr>\n",
       "      <th>count</th>\n",
       "      <td>4.000000</td>\n",
       "      <td>4.000000</td>\n",
       "      <td>4.000000</td>\n",
       "      <td>4.00</td>\n",
       "    </tr>\n",
       "    <tr>\n",
       "      <th>mean</th>\n",
       "      <td>158.750000</td>\n",
       "      <td>92.500000</td>\n",
       "      <td>91.000000</td>\n",
       "      <td>94.25</td>\n",
       "    </tr>\n",
       "    <tr>\n",
       "      <th>std</th>\n",
       "      <td>20.790623</td>\n",
       "      <td>9.882645</td>\n",
       "      <td>9.831921</td>\n",
       "      <td>4.50</td>\n",
       "    </tr>\n",
       "    <tr>\n",
       "      <th>min</th>\n",
       "      <td>130.000000</td>\n",
       "      <td>78.000000</td>\n",
       "      <td>78.000000</td>\n",
       "      <td>88.00</td>\n",
       "    </tr>\n",
       "    <tr>\n",
       "      <th>25%</th>\n",
       "      <td>150.250000</td>\n",
       "      <td>90.750000</td>\n",
       "      <td>86.250000</td>\n",
       "      <td>92.50</td>\n",
       "    </tr>\n",
       "    <tr>\n",
       "      <th>50%</th>\n",
       "      <td>165.000000</td>\n",
       "      <td>96.000000</td>\n",
       "      <td>93.000000</td>\n",
       "      <td>95.50</td>\n",
       "    </tr>\n",
       "    <tr>\n",
       "      <th>75%</th>\n",
       "      <td>173.500000</td>\n",
       "      <td>97.750000</td>\n",
       "      <td>97.750000</td>\n",
       "      <td>97.25</td>\n",
       "    </tr>\n",
       "    <tr>\n",
       "      <th>max</th>\n",
       "      <td>175.000000</td>\n",
       "      <td>100.000000</td>\n",
       "      <td>100.000000</td>\n",
       "      <td>98.00</td>\n",
       "    </tr>\n",
       "  </tbody>\n",
       "</table>\n",
       "</div>"
      ],
      "text/plain": [
       "           height     English        Math  Science\n",
       "count    4.000000    4.000000    4.000000     4.00\n",
       "mean   158.750000   92.500000   91.000000    94.25\n",
       "std     20.790623    9.882645    9.831921     4.50\n",
       "min    130.000000   78.000000   78.000000    88.00\n",
       "25%    150.250000   90.750000   86.250000    92.50\n",
       "50%    165.000000   96.000000   93.000000    95.50\n",
       "75%    173.500000   97.750000   97.750000    97.25\n",
       "max    175.000000  100.000000  100.000000    98.00"
      ]
     },
     "execution_count": 11,
     "metadata": {},
     "output_type": "execute_result"
    }
   ],
   "source": [
    "df.describe()"
   ]
  },
  {
   "cell_type": "code",
   "execution_count": 12,
   "id": "442e603a-8d2b-44dd-be3f-82bdb05cea02",
   "metadata": {},
   "outputs": [
    {
     "name": "stdout",
     "output_type": "stream",
     "text": [
      "<class 'pandas.core.frame.DataFrame'>\n",
      "Index: 4 entries, 1st to 4th\n",
      "Data columns (total 7 columns):\n",
      " #   Column    Non-Null Count  Dtype \n",
      "---  ------    --------------  ----- \n",
      " 0   name      4 non-null      object\n",
      " 1   school    4 non-null      object\n",
      " 2   height    4 non-null      int64 \n",
      " 3   English   4 non-null      int64 \n",
      " 4   Math      4 non-null      int64 \n",
      " 5   Science   4 non-null      int64 \n",
      " 6   SWskills  4 non-null      object\n",
      "dtypes: int64(4), object(3)\n",
      "memory usage: 256.0+ bytes\n"
     ]
    }
   ],
   "source": [
    "df.info()"
   ]
  },
  {
   "cell_type": "code",
   "execution_count": 15,
   "id": "6d83b80b-cd55-4202-8c4b-7bf213974d01",
   "metadata": {},
   "outputs": [
    {
     "data": {
      "text/html": [
       "<div>\n",
       "<style scoped>\n",
       "    .dataframe tbody tr th:only-of-type {\n",
       "        vertical-align: middle;\n",
       "    }\n",
       "\n",
       "    .dataframe tbody tr th {\n",
       "        vertical-align: top;\n",
       "    }\n",
       "\n",
       "    .dataframe thead th {\n",
       "        text-align: right;\n",
       "    }\n",
       "</style>\n",
       "<table border=\"1\" class=\"dataframe\">\n",
       "  <thead>\n",
       "    <tr style=\"text-align: right;\">\n",
       "      <th></th>\n",
       "      <th>name</th>\n",
       "      <th>school</th>\n",
       "      <th>height</th>\n",
       "      <th>English</th>\n",
       "      <th>Math</th>\n",
       "      <th>Science</th>\n",
       "      <th>SWskills</th>\n",
       "    </tr>\n",
       "    <tr>\n",
       "      <th>Sib. #</th>\n",
       "      <th></th>\n",
       "      <th></th>\n",
       "      <th></th>\n",
       "      <th></th>\n",
       "      <th></th>\n",
       "      <th></th>\n",
       "      <th></th>\n",
       "    </tr>\n",
       "  </thead>\n",
       "  <tbody>\n",
       "    <tr>\n",
       "      <th>1st</th>\n",
       "      <td>Sally</td>\n",
       "      <td>Biola</td>\n",
       "      <td>157</td>\n",
       "      <td>97</td>\n",
       "      <td>89</td>\n",
       "      <td>88</td>\n",
       "      <td>C++</td>\n",
       "    </tr>\n",
       "    <tr>\n",
       "      <th>2nd</th>\n",
       "      <td>David</td>\n",
       "      <td>UCI</td>\n",
       "      <td>173</td>\n",
       "      <td>78</td>\n",
       "      <td>100</td>\n",
       "      <td>98</td>\n",
       "      <td>Python</td>\n",
       "    </tr>\n",
       "    <tr>\n",
       "      <th>3rd</th>\n",
       "      <td>Daniel</td>\n",
       "      <td>Navy</td>\n",
       "      <td>175</td>\n",
       "      <td>95</td>\n",
       "      <td>78</td>\n",
       "      <td>94</td>\n",
       "      <td>Java</td>\n",
       "    </tr>\n",
       "    <tr>\n",
       "      <th>4th</th>\n",
       "      <td>Peter</td>\n",
       "      <td>Emery</td>\n",
       "      <td>130</td>\n",
       "      <td>100</td>\n",
       "      <td>97</td>\n",
       "      <td>97</td>\n",
       "      <td>Swift</td>\n",
       "    </tr>\n",
       "  </tbody>\n",
       "</table>\n",
       "</div>"
      ],
      "text/plain": [
       "          name school  height  English  Math  Science SWskills\n",
       "Sib. #                                                        \n",
       "1st      Sally  Biola     157       97    89       88      C++\n",
       "2nd      David    UCI     173       78   100       98   Python\n",
       "3rd     Daniel   Navy     175       95    78       94     Java\n",
       "4th      Peter  Emery     130      100    97       97    Swift"
      ]
     },
     "execution_count": 15,
     "metadata": {},
     "output_type": "execute_result"
    }
   ],
   "source": [
    "df.head() # bring first 5 row"
   ]
  },
  {
   "cell_type": "code",
   "execution_count": 17,
   "id": "76e0d0db-c315-47ee-8a1d-44d189866daf",
   "metadata": {},
   "outputs": [
    {
     "data": {
      "text/html": [
       "<div>\n",
       "<style scoped>\n",
       "    .dataframe tbody tr th:only-of-type {\n",
       "        vertical-align: middle;\n",
       "    }\n",
       "\n",
       "    .dataframe tbody tr th {\n",
       "        vertical-align: top;\n",
       "    }\n",
       "\n",
       "    .dataframe thead th {\n",
       "        text-align: right;\n",
       "    }\n",
       "</style>\n",
       "<table border=\"1\" class=\"dataframe\">\n",
       "  <thead>\n",
       "    <tr style=\"text-align: right;\">\n",
       "      <th></th>\n",
       "      <th>name</th>\n",
       "      <th>school</th>\n",
       "      <th>height</th>\n",
       "      <th>English</th>\n",
       "      <th>Math</th>\n",
       "      <th>Science</th>\n",
       "      <th>SWskills</th>\n",
       "    </tr>\n",
       "    <tr>\n",
       "      <th>Sib. #</th>\n",
       "      <th></th>\n",
       "      <th></th>\n",
       "      <th></th>\n",
       "      <th></th>\n",
       "      <th></th>\n",
       "      <th></th>\n",
       "      <th></th>\n",
       "    </tr>\n",
       "  </thead>\n",
       "  <tbody>\n",
       "    <tr>\n",
       "      <th>1st</th>\n",
       "      <td>Sally</td>\n",
       "      <td>Biola</td>\n",
       "      <td>157</td>\n",
       "      <td>97</td>\n",
       "      <td>89</td>\n",
       "      <td>88</td>\n",
       "      <td>C++</td>\n",
       "    </tr>\n",
       "    <tr>\n",
       "      <th>2nd</th>\n",
       "      <td>David</td>\n",
       "      <td>UCI</td>\n",
       "      <td>173</td>\n",
       "      <td>78</td>\n",
       "      <td>100</td>\n",
       "      <td>98</td>\n",
       "      <td>Python</td>\n",
       "    </tr>\n",
       "    <tr>\n",
       "      <th>3rd</th>\n",
       "      <td>Daniel</td>\n",
       "      <td>Navy</td>\n",
       "      <td>175</td>\n",
       "      <td>95</td>\n",
       "      <td>78</td>\n",
       "      <td>94</td>\n",
       "      <td>Java</td>\n",
       "    </tr>\n",
       "    <tr>\n",
       "      <th>4th</th>\n",
       "      <td>Peter</td>\n",
       "      <td>Emery</td>\n",
       "      <td>130</td>\n",
       "      <td>100</td>\n",
       "      <td>97</td>\n",
       "      <td>97</td>\n",
       "      <td>Swift</td>\n",
       "    </tr>\n",
       "  </tbody>\n",
       "</table>\n",
       "</div>"
      ],
      "text/plain": [
       "          name school  height  English  Math  Science SWskills\n",
       "Sib. #                                                        \n",
       "1st      Sally  Biola     157       97    89       88      C++\n",
       "2nd      David    UCI     173       78   100       98   Python\n",
       "3rd     Daniel   Navy     175       95    78       94     Java\n",
       "4th      Peter  Emery     130      100    97       97    Swift"
      ]
     },
     "execution_count": 17,
     "metadata": {},
     "output_type": "execute_result"
    }
   ],
   "source": [
    "df.head(7) # bring first 7 row"
   ]
  },
  {
   "cell_type": "code",
   "execution_count": 18,
   "id": "0a2521d7-2ef7-46dc-b3d1-0ca9f32cbe08",
   "metadata": {},
   "outputs": [
    {
     "data": {
      "text/html": [
       "<div>\n",
       "<style scoped>\n",
       "    .dataframe tbody tr th:only-of-type {\n",
       "        vertical-align: middle;\n",
       "    }\n",
       "\n",
       "    .dataframe tbody tr th {\n",
       "        vertical-align: top;\n",
       "    }\n",
       "\n",
       "    .dataframe thead th {\n",
       "        text-align: right;\n",
       "    }\n",
       "</style>\n",
       "<table border=\"1\" class=\"dataframe\">\n",
       "  <thead>\n",
       "    <tr style=\"text-align: right;\">\n",
       "      <th></th>\n",
       "      <th>name</th>\n",
       "      <th>school</th>\n",
       "      <th>height</th>\n",
       "      <th>English</th>\n",
       "      <th>Math</th>\n",
       "      <th>Science</th>\n",
       "      <th>SWskills</th>\n",
       "    </tr>\n",
       "    <tr>\n",
       "      <th>Sib. #</th>\n",
       "      <th></th>\n",
       "      <th></th>\n",
       "      <th></th>\n",
       "      <th></th>\n",
       "      <th></th>\n",
       "      <th></th>\n",
       "      <th></th>\n",
       "    </tr>\n",
       "  </thead>\n",
       "  <tbody>\n",
       "    <tr>\n",
       "      <th>1st</th>\n",
       "      <td>Sally</td>\n",
       "      <td>Biola</td>\n",
       "      <td>157</td>\n",
       "      <td>97</td>\n",
       "      <td>89</td>\n",
       "      <td>88</td>\n",
       "      <td>C++</td>\n",
       "    </tr>\n",
       "    <tr>\n",
       "      <th>2nd</th>\n",
       "      <td>David</td>\n",
       "      <td>UCI</td>\n",
       "      <td>173</td>\n",
       "      <td>78</td>\n",
       "      <td>100</td>\n",
       "      <td>98</td>\n",
       "      <td>Python</td>\n",
       "    </tr>\n",
       "    <tr>\n",
       "      <th>3rd</th>\n",
       "      <td>Daniel</td>\n",
       "      <td>Navy</td>\n",
       "      <td>175</td>\n",
       "      <td>95</td>\n",
       "      <td>78</td>\n",
       "      <td>94</td>\n",
       "      <td>Java</td>\n",
       "    </tr>\n",
       "    <tr>\n",
       "      <th>4th</th>\n",
       "      <td>Peter</td>\n",
       "      <td>Emery</td>\n",
       "      <td>130</td>\n",
       "      <td>100</td>\n",
       "      <td>97</td>\n",
       "      <td>97</td>\n",
       "      <td>Swift</td>\n",
       "    </tr>\n",
       "  </tbody>\n",
       "</table>\n",
       "</div>"
      ],
      "text/plain": [
       "          name school  height  English  Math  Science SWskills\n",
       "Sib. #                                                        \n",
       "1st      Sally  Biola     157       97    89       88      C++\n",
       "2nd      David    UCI     173       78   100       98   Python\n",
       "3rd     Daniel   Navy     175       95    78       94     Java\n",
       "4th      Peter  Emery     130      100    97       97    Swift"
      ]
     },
     "execution_count": 18,
     "metadata": {},
     "output_type": "execute_result"
    }
   ],
   "source": [
    "df.tail() # bring last 5 row"
   ]
  },
  {
   "cell_type": "code",
   "execution_count": 19,
   "id": "ce678d03-57fe-40fd-ba46-62adc30fb076",
   "metadata": {},
   "outputs": [
    {
     "data": {
      "text/plain": [
       "array([['Sally', 'Biola', 157, 97, 89, 88, 'C++'],\n",
       "       ['David', 'UCI', 173, 78, 100, 98, 'Python'],\n",
       "       ['Daniel', 'Navy', 175, 95, 78, 94, 'Java'],\n",
       "       ['Peter', 'Emery', 130, 100, 97, 97, 'Swift']], dtype=object)"
      ]
     },
     "execution_count": 19,
     "metadata": {},
     "output_type": "execute_result"
    }
   ],
   "source": [
    "df.values"
   ]
  },
  {
   "cell_type": "code",
   "execution_count": 20,
   "id": "b391492d-278b-47bc-9582-8f5cc1855267",
   "metadata": {},
   "outputs": [
    {
     "data": {
      "text/plain": [
       "Index(['1st', '2nd', '3rd', '4th'], dtype='object', name='Sib. #')"
      ]
     },
     "execution_count": 20,
     "metadata": {},
     "output_type": "execute_result"
    }
   ],
   "source": [
    "df.index"
   ]
  },
  {
   "cell_type": "code",
   "execution_count": 21,
   "id": "bba0b327-ea68-4329-a713-a0903d7a8065",
   "metadata": {},
   "outputs": [
    {
     "data": {
      "text/plain": [
       "Index(['1st', '2nd', '3rd', '4th'], dtype='object', name='Sib. #')"
      ]
     },
     "execution_count": 21,
     "metadata": {},
     "output_type": "execute_result"
    }
   ],
   "source": [
    "df.index"
   ]
  },
  {
   "cell_type": "code",
   "execution_count": 23,
   "id": "197d10d6-866b-4ec1-88ac-c837ee800189",
   "metadata": {},
   "outputs": [
    {
     "data": {
      "text/plain": [
       "(4, 7)"
      ]
     },
     "execution_count": 23,
     "metadata": {},
     "output_type": "execute_result"
    }
   ],
   "source": [
    "df.shape # show row, column"
   ]
  },
  {
   "cell_type": "markdown",
   "id": "45412976-2c0a-44c4-b9f5-3a8c2ff1ff25",
   "metadata": {},
   "source": [
    "## Check Series"
   ]
  },
  {
   "cell_type": "code",
   "execution_count": 25,
   "id": "40bad696-def5-45f2-8c92-42d410a077af",
   "metadata": {},
   "outputs": [
    {
     "data": {
      "text/plain": [
       "count      4.000000\n",
       "mean     158.750000\n",
       "std       20.790623\n",
       "min      130.000000\n",
       "25%      150.250000\n",
       "50%      165.000000\n",
       "75%      173.500000\n",
       "max      175.000000\n",
       "Name: height, dtype: float64"
      ]
     },
     "execution_count": 25,
     "metadata": {},
     "output_type": "execute_result"
    }
   ],
   "source": [
    "df['height'].describe()"
   ]
  },
  {
   "cell_type": "code",
   "execution_count": 26,
   "id": "0a471eef-c8d3-43b7-87ce-c4c2e65daab7",
   "metadata": {},
   "outputs": [
    {
     "data": {
      "text/plain": [
       "130"
      ]
     },
     "execution_count": 26,
     "metadata": {},
     "output_type": "execute_result"
    }
   ],
   "source": [
    "df['height'].min()"
   ]
  },
  {
   "cell_type": "code",
   "execution_count": 27,
   "id": "281963ea-dacb-4253-bc3c-ab0bc509985e",
   "metadata": {},
   "outputs": [
    {
     "data": {
      "text/plain": [
       "175"
      ]
     },
     "execution_count": 27,
     "metadata": {},
     "output_type": "execute_result"
    }
   ],
   "source": [
    "df['height'].max()"
   ]
  },
  {
   "cell_type": "code",
   "execution_count": 28,
   "id": "15d0d1af-12fc-49ef-bddb-c9423d0027fb",
   "metadata": {},
   "outputs": [
    {
     "data": {
      "text/plain": [
       "Sib. #\n",
       "3rd    175\n",
       "2nd    173\n",
       "1st    157\n",
       "Name: height, dtype: int64"
      ]
     },
     "execution_count": 28,
     "metadata": {},
     "output_type": "execute_result"
    }
   ],
   "source": [
    "df['height'].nlargest(3) # 3 largest heights"
   ]
  },
  {
   "cell_type": "code",
   "execution_count": 29,
   "id": "a4163f36-900a-44bc-8800-21f565fa456d",
   "metadata": {},
   "outputs": [
    {
     "data": {
      "text/plain": [
       "158.75"
      ]
     },
     "execution_count": 29,
     "metadata": {},
     "output_type": "execute_result"
    }
   ],
   "source": [
    "df['height'].mean()"
   ]
  },
  {
   "cell_type": "code",
   "execution_count": 30,
   "id": "5e027186-7168-4c57-bd4a-7e717598e446",
   "metadata": {},
   "outputs": [
    {
     "data": {
      "text/plain": [
       "635"
      ]
     },
     "execution_count": 30,
     "metadata": {},
     "output_type": "execute_result"
    }
   ],
   "source": [
    "df['height'].sum()"
   ]
  },
  {
   "cell_type": "code",
   "execution_count": 31,
   "id": "3bbd9e2f-ae42-4995-b7a3-c069d5c3bba4",
   "metadata": {},
   "outputs": [
    {
     "data": {
      "text/plain": [
       "4"
      ]
     },
     "execution_count": 31,
     "metadata": {},
     "output_type": "execute_result"
    }
   ],
   "source": [
    "df['height'].count()"
   ]
  },
  {
   "cell_type": "code",
   "execution_count": 33,
   "id": "6648ddf4-ba20-4b92-a980-f6991ba48593",
   "metadata": {},
   "outputs": [
    {
     "data": {
      "text/plain": [
       "array([157, 173, 175, 130])"
      ]
     },
     "execution_count": 33,
     "metadata": {},
     "output_type": "execute_result"
    }
   ],
   "source": [
    "df['height'].unique() # bring things & merge duplicates"
   ]
  },
  {
   "cell_type": "code",
   "execution_count": 34,
   "id": "2a6fd4ae-36e1-47b1-b051-c0f9925380ba",
   "metadata": {},
   "outputs": [
    {
     "data": {
      "text/plain": [
       "4"
      ]
     },
     "execution_count": 34,
     "metadata": {},
     "output_type": "execute_result"
    }
   ],
   "source": [
    "df['height'].nunique() # count unique"
   ]
  },
  {
   "cell_type": "code",
   "execution_count": null,
   "id": "f8da68f9-e8cf-46f3-b97d-fbb042da5960",
   "metadata": {},
   "outputs": [],
   "source": []
  },
  {
   "cell_type": "code",
   "execution_count": null,
   "id": "da272af7-1f90-4977-8e6f-e3ef0c1910b8",
   "metadata": {},
   "outputs": [],
   "source": []
  }
 ],
 "metadata": {
  "kernelspec": {
   "display_name": "Python 3 (ipykernel)",
   "language": "python",
   "name": "python3"
  },
  "language_info": {
   "codemirror_mode": {
    "name": "ipython",
    "version": 3
   },
   "file_extension": ".py",
   "mimetype": "text/x-python",
   "name": "python",
   "nbconvert_exporter": "python",
   "pygments_lexer": "ipython3",
   "version": "3.11.5"
  }
 },
 "nbformat": 4,
 "nbformat_minor": 5
}
