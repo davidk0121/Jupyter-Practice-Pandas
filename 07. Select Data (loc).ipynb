{
 "cells": [
  {
   "cell_type": "markdown",
   "id": "fdfeb841-f206-48b0-8e1d-e29410aa54a3",
   "metadata": {},
   "source": [
    "# 7. Select Data (loc)\n",
    "Select w and column using the name"
   ]
  },
  {
   "cell_type": "code",
   "execution_count": 3,
   "id": "46d4e8e0-292b-44ce-bff5-447d678b99e7",
   "metadata": {},
   "outputs": [
    {
     "data": {
      "text/html": [
       "<div>\n",
       "<style scoped>\n",
       "    .dataframe tbody tr th:only-of-type {\n",
       "        vertical-align: middle;\n",
       "    }\n",
       "\n",
       "    .dataframe tbody tr th {\n",
       "        vertical-align: top;\n",
       "    }\n",
       "\n",
       "    .dataframe thead th {\n",
       "        text-align: right;\n",
       "    }\n",
       "</style>\n",
       "<table border=\"1\" class=\"dataframe\">\n",
       "  <thead>\n",
       "    <tr style=\"text-align: right;\">\n",
       "      <th></th>\n",
       "      <th>name</th>\n",
       "      <th>school</th>\n",
       "      <th>height</th>\n",
       "      <th>English</th>\n",
       "      <th>Math</th>\n",
       "      <th>Science</th>\n",
       "      <th>SWskills</th>\n",
       "    </tr>\n",
       "    <tr>\n",
       "      <th>Sib. #</th>\n",
       "      <th></th>\n",
       "      <th></th>\n",
       "      <th></th>\n",
       "      <th></th>\n",
       "      <th></th>\n",
       "      <th></th>\n",
       "      <th></th>\n",
       "    </tr>\n",
       "  </thead>\n",
       "  <tbody>\n",
       "    <tr>\n",
       "      <th>1st</th>\n",
       "      <td>Sally</td>\n",
       "      <td>Biola</td>\n",
       "      <td>157</td>\n",
       "      <td>97</td>\n",
       "      <td>89</td>\n",
       "      <td>88</td>\n",
       "      <td>C++</td>\n",
       "    </tr>\n",
       "    <tr>\n",
       "      <th>2nd</th>\n",
       "      <td>David</td>\n",
       "      <td>UCI</td>\n",
       "      <td>173</td>\n",
       "      <td>78</td>\n",
       "      <td>100</td>\n",
       "      <td>98</td>\n",
       "      <td>Python</td>\n",
       "    </tr>\n",
       "    <tr>\n",
       "      <th>3rd</th>\n",
       "      <td>Daniel</td>\n",
       "      <td>Navy</td>\n",
       "      <td>175</td>\n",
       "      <td>95</td>\n",
       "      <td>78</td>\n",
       "      <td>94</td>\n",
       "      <td>Java</td>\n",
       "    </tr>\n",
       "    <tr>\n",
       "      <th>4th</th>\n",
       "      <td>Peter</td>\n",
       "      <td>Emery</td>\n",
       "      <td>130</td>\n",
       "      <td>100</td>\n",
       "      <td>97</td>\n",
       "      <td>97</td>\n",
       "      <td>Swift</td>\n",
       "    </tr>\n",
       "  </tbody>\n",
       "</table>\n",
       "</div>"
      ],
      "text/plain": [
       "          name school  height  English  Math  Science SWskills\n",
       "Sib. #                                                        \n",
       "1st      Sally  Biola     157       97    89       88      C++\n",
       "2nd      David    UCI     173       78   100       98   Python\n",
       "3rd     Daniel   Navy     175       95    78       94     Java\n",
       "4th      Peter  Emery     130      100    97       97    Swift"
      ]
     },
     "execution_count": 3,
     "metadata": {},
     "output_type": "execute_result"
    }
   ],
   "source": [
    "import pandas as pd\n",
    "df = pd.read_excel('score.xlsx', index_col='Sib. #')\n",
    "df"
   ]
  },
  {
   "cell_type": "code",
   "execution_count": 4,
   "id": "5ba00890-23c8-48ad-a75d-26851aa9b826",
   "metadata": {},
   "outputs": [
    {
     "data": {
      "text/plain": [
       "name        Sally\n",
       "school      Biola\n",
       "height        157\n",
       "English        97\n",
       "Math           89\n",
       "Science        88\n",
       "SWskills      C++\n",
       "Name: 1st, dtype: object"
      ]
     },
     "execution_count": 4,
     "metadata": {},
     "output_type": "execute_result"
    }
   ],
   "source": [
    "df.loc['1st'] # bring data from index '1st'"
   ]
  },
  {
   "cell_type": "code",
   "execution_count": 5,
   "id": "92b843d8-ca06-42a2-96af-e71788519ff5",
   "metadata": {},
   "outputs": [
    {
     "data": {
      "text/plain": [
       "97"
      ]
     },
     "execution_count": 5,
     "metadata": {},
     "output_type": "execute_result"
    }
   ],
   "source": [
    "df.loc['1st', 'English'] # index = 1st and column = English"
   ]
  },
  {
   "cell_type": "code",
   "execution_count": 6,
   "id": "8e36f929-525a-4322-9e51-a2e821f566d1",
   "metadata": {},
   "outputs": [
    {
     "data": {
      "text/plain": [
       "Sib. #\n",
       "1st    97\n",
       "2nd    78\n",
       "Name: English, dtype: int64"
      ]
     },
     "execution_count": 6,
     "metadata": {},
     "output_type": "execute_result"
    }
   ],
   "source": [
    "df.loc[['1st', '2nd'], 'English'] "
   ]
  },
  {
   "cell_type": "code",
   "execution_count": 7,
   "id": "17521325-9369-402a-bd6c-68223c009f45",
   "metadata": {},
   "outputs": [
    {
     "data": {
      "text/html": [
       "<div>\n",
       "<style scoped>\n",
       "    .dataframe tbody tr th:only-of-type {\n",
       "        vertical-align: middle;\n",
       "    }\n",
       "\n",
       "    .dataframe tbody tr th {\n",
       "        vertical-align: top;\n",
       "    }\n",
       "\n",
       "    .dataframe thead th {\n",
       "        text-align: right;\n",
       "    }\n",
       "</style>\n",
       "<table border=\"1\" class=\"dataframe\">\n",
       "  <thead>\n",
       "    <tr style=\"text-align: right;\">\n",
       "      <th></th>\n",
       "      <th>English</th>\n",
       "      <th>Math</th>\n",
       "      <th>Science</th>\n",
       "    </tr>\n",
       "    <tr>\n",
       "      <th>Sib. #</th>\n",
       "      <th></th>\n",
       "      <th></th>\n",
       "      <th></th>\n",
       "    </tr>\n",
       "  </thead>\n",
       "  <tbody>\n",
       "    <tr>\n",
       "      <th>1st</th>\n",
       "      <td>97</td>\n",
       "      <td>89</td>\n",
       "      <td>88</td>\n",
       "    </tr>\n",
       "    <tr>\n",
       "      <th>2nd</th>\n",
       "      <td>78</td>\n",
       "      <td>100</td>\n",
       "      <td>98</td>\n",
       "    </tr>\n",
       "  </tbody>\n",
       "</table>\n",
       "</div>"
      ],
      "text/plain": [
       "        English  Math  Science\n",
       "Sib. #                        \n",
       "1st          97    89       88\n",
       "2nd          78   100       98"
      ]
     },
     "execution_count": 7,
     "metadata": {},
     "output_type": "execute_result"
    }
   ],
   "source": [
    "df.loc['1st':'2nd', 'English':'Science']"
   ]
  },
  {
   "cell_type": "code",
   "execution_count": null,
   "id": "bee9233a-6777-43ff-b292-45902ab0a11e",
   "metadata": {},
   "outputs": [],
   "source": []
  },
  {
   "cell_type": "code",
   "execution_count": null,
   "id": "12813d6c-e6f4-4668-82c5-8f8c0bc141ac",
   "metadata": {},
   "outputs": [],
   "source": []
  },
  {
   "cell_type": "code",
   "execution_count": null,
   "id": "8e51e960-63ec-4bcc-ab73-123cd6101b3d",
   "metadata": {},
   "outputs": [],
   "source": []
  },
  {
   "cell_type": "code",
   "execution_count": null,
   "id": "748356f3-51d1-45be-a5da-bf4c0d64c3b3",
   "metadata": {},
   "outputs": [],
   "source": []
  },
  {
   "cell_type": "code",
   "execution_count": null,
   "id": "75279b39-b096-4abb-966e-a1f343bdb963",
   "metadata": {},
   "outputs": [],
   "source": []
  }
 ],
 "metadata": {
  "kernelspec": {
   "display_name": "Python 3 (ipykernel)",
   "language": "python",
   "name": "python3"
  },
  "language_info": {
   "codemirror_mode": {
    "name": "ipython",
    "version": 3
   },
   "file_extension": ".py",
   "mimetype": "text/x-python",
   "name": "python",
   "nbconvert_exporter": "python",
   "pygments_lexer": "ipython3",
   "version": "3.11.5"
  }
 },
 "nbformat": 4,
 "nbformat_minor": 5
}
