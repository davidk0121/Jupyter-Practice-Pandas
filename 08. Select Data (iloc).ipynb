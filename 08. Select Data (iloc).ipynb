{
 "cells": [
  {
   "cell_type": "markdown",
   "id": "d0488bc0-1056-46bf-b60c-9375a9fc2b31",
   "metadata": {},
   "source": [
    "# 8. Select Data (iloc)"
   ]
  },
  {
   "cell_type": "code",
   "execution_count": 2,
   "id": "4d457554-d3d0-4528-b98e-15c5cc6ad1d3",
   "metadata": {},
   "outputs": [
    {
     "data": {
      "text/html": [
       "<div>\n",
       "<style scoped>\n",
       "    .dataframe tbody tr th:only-of-type {\n",
       "        vertical-align: middle;\n",
       "    }\n",
       "\n",
       "    .dataframe tbody tr th {\n",
       "        vertical-align: top;\n",
       "    }\n",
       "\n",
       "    .dataframe thead th {\n",
       "        text-align: right;\n",
       "    }\n",
       "</style>\n",
       "<table border=\"1\" class=\"dataframe\">\n",
       "  <thead>\n",
       "    <tr style=\"text-align: right;\">\n",
       "      <th></th>\n",
       "      <th>name</th>\n",
       "      <th>school</th>\n",
       "      <th>height</th>\n",
       "      <th>English</th>\n",
       "      <th>Math</th>\n",
       "      <th>Science</th>\n",
       "      <th>SWskills</th>\n",
       "    </tr>\n",
       "    <tr>\n",
       "      <th>Sib. #</th>\n",
       "      <th></th>\n",
       "      <th></th>\n",
       "      <th></th>\n",
       "      <th></th>\n",
       "      <th></th>\n",
       "      <th></th>\n",
       "      <th></th>\n",
       "    </tr>\n",
       "  </thead>\n",
       "  <tbody>\n",
       "    <tr>\n",
       "      <th>1st</th>\n",
       "      <td>Sally</td>\n",
       "      <td>Biola</td>\n",
       "      <td>157</td>\n",
       "      <td>97</td>\n",
       "      <td>89</td>\n",
       "      <td>88</td>\n",
       "      <td>C++</td>\n",
       "    </tr>\n",
       "    <tr>\n",
       "      <th>2nd</th>\n",
       "      <td>David</td>\n",
       "      <td>UCI</td>\n",
       "      <td>173</td>\n",
       "      <td>78</td>\n",
       "      <td>100</td>\n",
       "      <td>98</td>\n",
       "      <td>Python</td>\n",
       "    </tr>\n",
       "    <tr>\n",
       "      <th>3rd</th>\n",
       "      <td>Daniel</td>\n",
       "      <td>Navy</td>\n",
       "      <td>175</td>\n",
       "      <td>95</td>\n",
       "      <td>78</td>\n",
       "      <td>94</td>\n",
       "      <td>Java</td>\n",
       "    </tr>\n",
       "    <tr>\n",
       "      <th>4th</th>\n",
       "      <td>Peter</td>\n",
       "      <td>Emery</td>\n",
       "      <td>130</td>\n",
       "      <td>100</td>\n",
       "      <td>97</td>\n",
       "      <td>97</td>\n",
       "      <td>Swift</td>\n",
       "    </tr>\n",
       "  </tbody>\n",
       "</table>\n",
       "</div>"
      ],
      "text/plain": [
       "          name school  height  English  Math  Science SWskills\n",
       "Sib. #                                                        \n",
       "1st      Sally  Biola     157       97    89       88      C++\n",
       "2nd      David    UCI     173       78   100       98   Python\n",
       "3rd     Daniel   Navy     175       95    78       94     Java\n",
       "4th      Peter  Emery     130      100    97       97    Swift"
      ]
     },
     "execution_count": 2,
     "metadata": {},
     "output_type": "execute_result"
    }
   ],
   "source": [
    "import pandas as pd\n",
    "df = pd.read_excel('score.xlsx', index_col='Sib. #')\n",
    "df"
   ]
  },
  {
   "cell_type": "code",
   "execution_count": 4,
   "id": "3286982a-6c43-4b70-90c0-9ee3bfc371ca",
   "metadata": {},
   "outputs": [
    {
     "data": {
      "text/plain": [
       "name        Sally\n",
       "school      Biola\n",
       "height        157\n",
       "English        97\n",
       "Math           89\n",
       "Science        88\n",
       "SWskills      C++\n",
       "Name: 1st, dtype: object"
      ]
     },
     "execution_count": 4,
     "metadata": {},
     "output_type": "execute_result"
    }
   ],
   "source": [
    "df.iloc[0] # 0th person's data"
   ]
  },
  {
   "cell_type": "code",
   "execution_count": 5,
   "id": "53567437-78ce-4078-aa6d-c0c2c72785f5",
   "metadata": {},
   "outputs": [
    {
     "data": {
      "text/html": [
       "<div>\n",
       "<style scoped>\n",
       "    .dataframe tbody tr th:only-of-type {\n",
       "        vertical-align: middle;\n",
       "    }\n",
       "\n",
       "    .dataframe tbody tr th {\n",
       "        vertical-align: top;\n",
       "    }\n",
       "\n",
       "    .dataframe thead th {\n",
       "        text-align: right;\n",
       "    }\n",
       "</style>\n",
       "<table border=\"1\" class=\"dataframe\">\n",
       "  <thead>\n",
       "    <tr style=\"text-align: right;\">\n",
       "      <th></th>\n",
       "      <th>name</th>\n",
       "      <th>school</th>\n",
       "      <th>height</th>\n",
       "      <th>English</th>\n",
       "      <th>Math</th>\n",
       "      <th>Science</th>\n",
       "      <th>SWskills</th>\n",
       "    </tr>\n",
       "    <tr>\n",
       "      <th>Sib. #</th>\n",
       "      <th></th>\n",
       "      <th></th>\n",
       "      <th></th>\n",
       "      <th></th>\n",
       "      <th></th>\n",
       "      <th></th>\n",
       "      <th></th>\n",
       "    </tr>\n",
       "  </thead>\n",
       "  <tbody>\n",
       "    <tr>\n",
       "      <th>1st</th>\n",
       "      <td>Sally</td>\n",
       "      <td>Biola</td>\n",
       "      <td>157</td>\n",
       "      <td>97</td>\n",
       "      <td>89</td>\n",
       "      <td>88</td>\n",
       "      <td>C++</td>\n",
       "    </tr>\n",
       "    <tr>\n",
       "      <th>2nd</th>\n",
       "      <td>David</td>\n",
       "      <td>UCI</td>\n",
       "      <td>173</td>\n",
       "      <td>78</td>\n",
       "      <td>100</td>\n",
       "      <td>98</td>\n",
       "      <td>Python</td>\n",
       "    </tr>\n",
       "    <tr>\n",
       "      <th>3rd</th>\n",
       "      <td>Daniel</td>\n",
       "      <td>Navy</td>\n",
       "      <td>175</td>\n",
       "      <td>95</td>\n",
       "      <td>78</td>\n",
       "      <td>94</td>\n",
       "      <td>Java</td>\n",
       "    </tr>\n",
       "  </tbody>\n",
       "</table>\n",
       "</div>"
      ],
      "text/plain": [
       "          name school  height  English  Math  Science SWskills\n",
       "Sib. #                                                        \n",
       "1st      Sally  Biola     157       97    89       88      C++\n",
       "2nd      David    UCI     173       78   100       98   Python\n",
       "3rd     Daniel   Navy     175       95    78       94     Java"
      ]
     },
     "execution_count": 5,
     "metadata": {},
     "output_type": "execute_result"
    }
   ],
   "source": [
    "df.iloc[0:3] # 0 ~ 2nd person's data"
   ]
  },
  {
   "cell_type": "code",
   "execution_count": 6,
   "id": "f8682082-a3cf-4631-a774-28bb24ba18d8",
   "metadata": {},
   "outputs": [
    {
     "data": {
      "text/plain": [
       "'Biola'"
      ]
     },
     "execution_count": 6,
     "metadata": {},
     "output_type": "execute_result"
    }
   ],
   "source": [
    "df.iloc[0, 1] # 0th person's 1st(school) data"
   ]
  },
  {
   "cell_type": "code",
   "execution_count": 7,
   "id": "7b055ed8-37d9-4ca3-a104-39620b20cd5f",
   "metadata": {},
   "outputs": [
    {
     "data": {
      "text/plain": [
       "Sib. #\n",
       "1st    157\n",
       "2nd    173\n",
       "Name: height, dtype: int64"
      ]
     },
     "execution_count": 7,
     "metadata": {},
     "output_type": "execute_result"
    }
   ],
   "source": [
    " df.iloc[[0, 1], 2] # 0th & 1st person's 2nd(height) data"
   ]
  },
  {
   "cell_type": "code",
   "execution_count": 8,
   "id": "30f303f2-9e48-481b-a5ef-6607bd95b090",
   "metadata": {},
   "outputs": [
    {
     "data": {
      "text/html": [
       "<div>\n",
       "<style scoped>\n",
       "    .dataframe tbody tr th:only-of-type {\n",
       "        vertical-align: middle;\n",
       "    }\n",
       "\n",
       "    .dataframe tbody tr th {\n",
       "        vertical-align: top;\n",
       "    }\n",
       "\n",
       "    .dataframe thead th {\n",
       "        text-align: right;\n",
       "    }\n",
       "</style>\n",
       "<table border=\"1\" class=\"dataframe\">\n",
       "  <thead>\n",
       "    <tr style=\"text-align: right;\">\n",
       "      <th></th>\n",
       "      <th>height</th>\n",
       "      <th>English</th>\n",
       "      <th>Math</th>\n",
       "    </tr>\n",
       "    <tr>\n",
       "      <th>Sib. #</th>\n",
       "      <th></th>\n",
       "      <th></th>\n",
       "      <th></th>\n",
       "    </tr>\n",
       "  </thead>\n",
       "  <tbody>\n",
       "    <tr>\n",
       "      <th>1st</th>\n",
       "      <td>157</td>\n",
       "      <td>97</td>\n",
       "      <td>89</td>\n",
       "    </tr>\n",
       "    <tr>\n",
       "      <th>2nd</th>\n",
       "      <td>173</td>\n",
       "      <td>78</td>\n",
       "      <td>100</td>\n",
       "    </tr>\n",
       "    <tr>\n",
       "      <th>3rd</th>\n",
       "      <td>175</td>\n",
       "      <td>95</td>\n",
       "      <td>78</td>\n",
       "    </tr>\n",
       "  </tbody>\n",
       "</table>\n",
       "</div>"
      ],
      "text/plain": [
       "        height  English  Math\n",
       "Sib. #                       \n",
       "1st        157       97    89\n",
       "2nd        173       78   100\n",
       "3rd        175       95    78"
      ]
     },
     "execution_count": 8,
     "metadata": {},
     "output_type": "execute_result"
    }
   ],
   "source": [
    "df.iloc[0:3, 2:5]"
   ]
  },
  {
   "cell_type": "code",
   "execution_count": null,
   "id": "a33ed654-2177-4e4d-8ab3-d170d949a6f4",
   "metadata": {},
   "outputs": [],
   "source": []
  },
  {
   "cell_type": "code",
   "execution_count": null,
   "id": "cb825788-41f8-4ad6-a621-7051b87310a4",
   "metadata": {},
   "outputs": [],
   "source": []
  },
  {
   "cell_type": "code",
   "execution_count": null,
   "id": "5748e50b-1d87-4a57-b741-de150a95026d",
   "metadata": {},
   "outputs": [],
   "source": []
  }
 ],
 "metadata": {
  "kernelspec": {
   "display_name": "Python 3 (ipykernel)",
   "language": "python",
   "name": "python3"
  },
  "language_info": {
   "codemirror_mode": {
    "name": "ipython",
    "version": 3
   },
   "file_extension": ".py",
   "mimetype": "text/x-python",
   "name": "python",
   "nbconvert_exporter": "python",
   "pygments_lexer": "ipython3",
   "version": "3.11.5"
  }
 },
 "nbformat": 4,
 "nbformat_minor": 5
}
